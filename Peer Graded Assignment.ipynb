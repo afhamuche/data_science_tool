{
 "cells": [
  {
   "cell_type": "markdown",
   "metadata": {
    "collapsed": true
   },
   "source": [
    "<h1>My Jupyter Notebook on IBM Watson Studio</h1>"
   ]
  },
  {
   "cell_type": "markdown",
   "metadata": {},
   "source": [
    "By: <b>Alessandro F. Hamuche</b>\n",
    "<br>\n",
    "Desired Occupation: Chief Creative, Streamline & Intelligence Officer"
   ]
  },
  {
   "cell_type": "markdown",
   "metadata": {},
   "source": [
    "Why am I interested in Data Science?<br><br>\n",
    "<i>Synergy is when data meets science. Grasping concepts from the subtext of raw data is a task for those who are ready to shift paradigms and disrupt markets, that's the power I want to liberate for a brighter world.</i>"
   ]
  },
  {
   "cell_type": "markdown",
   "metadata": {},
   "source": [
    "<h3>In the next cell (Cell 5) the code will print the average from a list of integers, or give a type error.</h3>"
   ]
  },
  {
   "cell_type": "code",
   "execution_count": 7,
   "metadata": {},
   "outputs": [
    {
     "name": "stdout",
     "output_type": "stream",
     "text": [
      "When given \"validlist\" to the function \"list_average\", it returns 3.142857142857143\n",
      "\n",
      "TypeError: function must be given a list of Integers\n",
      "When given \"invalidlist\" to the function \"list_average\", it returns None and the Error above.\n"
     ]
    }
   ],
   "source": [
    "def list_average(integers):\n",
    "    try:\n",
    "        temp = 0\n",
    "        for integer in integers:\n",
    "            temp += integer\n",
    "        return temp / len(integers)\n",
    "    \n",
    "    except TypeError:\n",
    "        print(\"TypeError: function must be given a list of Integers\")\n",
    "        \n",
    "validlist = [1, 2, 5, 3, 4, 0, 7]\n",
    "invalidlist = [\"a\", \"c\", 5]\n",
    "\n",
    "print(\"When given \\\"validlist\\\" to the function \\\"list_average\\\", it returns {}\\n\".format(list_average(validlist)))\n",
    "print(\"When given \\\"invalidlist\\\" to the function \\\"list_average\\\", it returns {} and the Error above.\".format(list_average(invalidlist)))\n"
   ]
  },
  {
   "cell_type": "markdown",
   "metadata": {},
   "source": [
    "Two good reasons why averaging lists is so important:<br>\n",
    "<li><strike>It helps me pass this assignment.</strike></li>\n",
    "<li>It is a very common Mathematical function.</li>\n",
    "<br>\n",
    "Try applying these Mathematical equations on your code:<br>\n",
    "<ol>\n",
    "    <li><a href=\"https://mathvault.ca/euler-formula/#Eulers_Identity\">Euler's Identity</a></li>\n",
    "    <li><a href=\"https://www.macroption.com/black-scholes-formula/#greeks\">Black-Scholes Greek's Formula</a></li>\n",
    "    <li><a href=\"https://sciencing.com/schrodingers-equation-explained-how-to-use-it-13722578.html\">Schrödinger's Equation</a></li>\n",
    "    </ol>\n",
    "<br>\n",
    "<q>Thank you!</q>    "
   ]
  },
  {
   "cell_type": "code",
   "execution_count": null,
   "metadata": {},
   "outputs": [],
   "source": []
  }
 ],
 "metadata": {
  "kernelspec": {
   "display_name": "Python 3.9",
   "language": "python",
   "name": "python3"
  },
  "language_info": {
   "codemirror_mode": {
    "name": "ipython",
    "version": 3
   },
   "file_extension": ".py",
   "mimetype": "text/x-python",
   "name": "python",
   "nbconvert_exporter": "python",
   "pygments_lexer": "ipython3",
   "version": "3.9.12"
  }
 },
 "nbformat": 4,
 "nbformat_minor": 1
}
